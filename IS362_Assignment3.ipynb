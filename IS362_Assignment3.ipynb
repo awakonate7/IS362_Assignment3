{
 "cells": [
  {
   "cell_type": "code",
   "execution_count": null,
   "id": "6deb8eb7",
   "metadata": {},
   "outputs": [],
   "source": [
    "import numpy as np\n",
    "import pandas as pd"
   ]
  },
  {
   "cell_type": "markdown",
   "id": "2b739533",
   "metadata": {},
   "source": [
    "The task is to create a pandas Series object that holds the cumulative miles at the end of each day\"\n",
    "The below accumulates everything with each oncoming day."
   ]
  },
  {
   "cell_type": "code",
   "execution_count": null,
   "id": "110ba116",
   "metadata": {},
   "outputs": [],
   "source": [
    "miles = pd.Series([55, 65, 50, 45, 35, 60], index=['day1', 'day2', 'day3', 'day4', 'day5', 'day6'])\n",
    "total = (miles.cumsum())\n",
    "print (total)"
   ]
  },
  {
   "cell_type": "markdown",
   "id": "ebac7827",
   "metadata": {},
   "source": [
    "day1     55\n",
    "day2    120\n",
    "day3    170\n",
    "day4    215\n",
    "day5    250\n",
    "day6    310\n",
    "dtype: int64\n",
    "\n",
    "\n",
    "The next part should \"use your Python skills to show the total miles that you rode each day\", so a for loop that iterates over what we have above should be sufficient."
   ]
  },
  {
   "cell_type": "code",
   "execution_count": null,
   "id": "ab6dda6a",
   "metadata": {},
   "outputs": [],
   "source": [
    "day = \"Day\"\n",
    "miles2 = pd.Series([55, 65, 50, 45, 35, 60])\n",
    "total2 = (miles2.cumsum())\n",
    "\n",
    "for key, value in total2.iteritems():\n",
    "    if (key>0):\n",
    "        subbed = value - total[key-1]\n",
    "    else:\n",
    "        subbed = value\n",
    "    print (day, key, subbed)"
   ]
  },
  {
   "cell_type": "markdown",
   "id": "3770c37c",
   "metadata": {},
   "source": [
    "Day 0 55\n",
    "Day 1 65\n",
    "Day 2 50\n",
    "Day 3 45\n",
    "Day 4 35\n",
    "Day 5 60\n",
    "\n",
    "\n",
    "This is another alernative but it can't be easily manipulated as the one above"
   ]
  },
  {
   "cell_type": "code",
   "execution_count": null,
   "id": "ece2f57d",
   "metadata": {},
   "outputs": [],
   "source": [
    "for key, value in total.iteritems():\n",
    "    number = miles[key]\n",
    "    print (key, number)   \n",
    "   # print (key, value)"
   ]
  },
  {
   "cell_type": "markdown",
   "id": "2f2a49fb",
   "metadata": {},
   "source": [
    "day1 55\n",
    "day2 65\n",
    "day3 50\n",
    "day4 45\n",
    "day5 35\n",
    "day6 60\n"
   ]
  },
  {
   "cell_type": "code",
   "execution_count": null,
   "id": "38c10c72",
   "metadata": {},
   "outputs": [],
   "source": []
  }
 ],
 "metadata": {
  "kernelspec": {
   "display_name": "Python 3 (ipykernel)",
   "language": "python",
   "name": "python3"
  },
  "language_info": {
   "codemirror_mode": {
    "name": "ipython",
    "version": 3
   },
   "file_extension": ".py",
   "mimetype": "text/x-python",
   "name": "python",
   "nbconvert_exporter": "python",
   "pygments_lexer": "ipython3",
   "version": "3.9.7"
  }
 },
 "nbformat": 4,
 "nbformat_minor": 5
}
